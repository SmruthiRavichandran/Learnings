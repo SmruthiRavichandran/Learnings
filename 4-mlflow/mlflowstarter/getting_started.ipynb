{
 "cells": [
  {
   "cell_type": "markdown",
   "metadata": {},
   "source": [
    "Mlflow tracking server"
   ]
  },
  {
   "cell_type": "code",
   "execution_count": 1,
   "metadata": {},
   "outputs": [],
   "source": [
    "import mlflow"
   ]
  },
  {
   "cell_type": "code",
   "execution_count": null,
   "metadata": {},
   "outputs": [],
   "source": [
    "mlflow.set_tracking_uri(\"http://127.0.0.1:5000\")\n",
    "#track the experiment in the mlflow server in the default location"
   ]
  },
  {
   "cell_type": "code",
   "execution_count": 3,
   "metadata": {},
   "outputs": [
    {
     "name": "stderr",
     "output_type": "stream",
     "text": [
      "2024/11/12 14:30:23 INFO mlflow.tracking.fluent: Experiment with name 'check localhost connection' does not exist. Creating a new experiment.\n",
      "2024/11/12 14:30:23 INFO mlflow.tracking._tracking_service.client: 🏃 View run caring-fish-601 at: http://127.0.0.1:5000/#/experiments/218033218671128794/runs/4b806d7cbb9d4ce99ab0174d5b449497.\n",
      "2024/11/12 14:30:23 INFO mlflow.tracking._tracking_service.client: 🧪 View experiment at: http://127.0.0.1:5000/#/experiments/218033218671128794.\n"
     ]
    },
    {
     "name": "stdout",
     "output_type": "stream",
     "text": [
      "Hello world\n"
     ]
    }
   ],
   "source": [
    "mlflow.set_experiment(\"check localhost connection\")\n",
    "with mlflow.start_run():\n",
    "    mlflow.log_metric(\"test\", 1)\n",
    "    mlflow.log_metric(\"test2\", 2)\n",
    "    print(\"Hello world\")"
   ]
  },
  {
   "cell_type": "code",
   "execution_count": 4,
   "metadata": {},
   "outputs": [
    {
     "name": "stderr",
     "output_type": "stream",
     "text": [
      "2024/11/12 14:37:16 INFO mlflow.tracking._tracking_service.client: 🏃 View run classy-seal-452 at: http://127.0.0.1:5000/#/experiments/218033218671128794/runs/710b81e8764542368d7c2cbcecf7935a.\n",
      "2024/11/12 14:37:16 INFO mlflow.tracking._tracking_service.client: 🧪 View experiment at: http://127.0.0.1:5000/#/experiments/218033218671128794.\n"
     ]
    },
    {
     "name": "stdout",
     "output_type": "stream",
     "text": [
      "Hello world\n"
     ]
    }
   ],
   "source": [
    "mlflow.set_experiment(\"check localhost connection\")\n",
    "with mlflow.start_run():\n",
    "    mlflow.log_metric(\"smr1\", 4)\n",
    "    mlflow.log_metric(\"smr2\", 3)\n",
    "    print(\"Hello world\")"
   ]
  },
  {
   "cell_type": "code",
   "execution_count": null,
   "metadata": {},
   "outputs": [],
   "source": []
  }
 ],
 "metadata": {
  "kernelspec": {
   "display_name": ".venv",
   "language": "python",
   "name": "python3"
  },
  "language_info": {
   "codemirror_mode": {
    "name": "ipython",
    "version": 3
   },
   "file_extension": ".py",
   "mimetype": "text/x-python",
   "name": "python",
   "nbconvert_exporter": "python",
   "pygments_lexer": "ipython3",
   "version": "3.11.4"
  }
 },
 "nbformat": 4,
 "nbformat_minor": 2
}
